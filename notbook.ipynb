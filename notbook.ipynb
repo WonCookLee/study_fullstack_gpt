{
 "cells": [
  {
   "cell_type": "code",
   "execution_count": 9,
   "metadata": {},
   "outputs": [
    {
     "name": "stdout",
     "output_type": "stream",
     "text": [
      "\n",
      "\n",
      "\u001b[1m> Entering new LLMChain chain...\u001b[0m\n",
      "Prompt after formatting:\n",
      "\u001b[32;1m\u001b[1;3m\n",
      "    너는 사람에게 도움을 주는 AI야, 그리고 한글로 얘기해\n",
      "    \n",
      "    \n",
      "    사람: 내 이름은 원국\n",
      "    AI: \n",
      "\u001b[0m\n",
      "\n",
      "\u001b[1m> Finished chain.\u001b[0m\n"
     ]
    },
    {
     "data": {
      "text/plain": [
       "'안녕하세요, 원국님. 저는 여러분이 필요로 하는 정보나 도움을 제공해드리는 인공지능입니다. 어떤 도움이 필요하신가요?'"
      ]
     },
     "execution_count": 9,
     "metadata": {},
     "output_type": "execute_result"
    }
   ],
   "source": [
    "from langchain.chat_models import ChatOpenAI\n",
    "from langchain.llms.openai import OpenAI\n",
    "from langchain.callbacks import StreamingStdOutCallbackHandler\n",
    "from langchain.memory import ConversationSummaryBufferMemory\n",
    "from langchain.chains import LLMChain\n",
    "from langchain.prompts import PromptTemplate\n",
    "\n",
    "llm = ChatOpenAI(\n",
    "    temperature=0.1,\n",
    "    # streaming=True,\n",
    "    # callbacks=[\n",
    "    #     StreamingStdOutCallbackHandler(),\n",
    "    # ],\n",
    ")\n",
    "\n",
    "memory = ConversationSummaryBufferMemory(\n",
    "    llm=llm,\n",
    "    max_token_limit=120,\n",
    "    memory_key=\"chat_history\"\n",
    "    )\n",
    "\n",
    "template = \"\"\"\n",
    "    너는 사람에게 도움을 주는 AI야, 물어본 언어로 대답해\n",
    "    \n",
    "    {chat_history}\n",
    "    사람: {question}\n",
    "    AI: \n",
    "\"\"\"\n",
    "chain = LLMChain(\n",
    "    llm=llm,\n",
    "    memory=memory,\n",
    "    prompt=PromptTemplate.from_template(template),\n",
    "    verbose=True\n",
    ")\n",
    "\n",
    "chain.predict(question=\"내 이름은 원국\")\n",
    "\n",
    "\n"
   ]
  },
  {
   "cell_type": "code",
   "execution_count": 10,
   "metadata": {},
   "outputs": [
    {
     "name": "stdout",
     "output_type": "stream",
     "text": [
      "\n",
      "\n",
      "\u001b[1m> Entering new LLMChain chain...\u001b[0m\n",
      "Prompt after formatting:\n",
      "\u001b[32;1m\u001b[1;3m\n",
      "    너는 사람에게 도움을 주는 AI야, 그리고 한글로 얘기해\n",
      "    \n",
      "    Human: 내 이름은 원국\n",
      "AI: 안녕하세요, 원국님. 저는 여러분이 필요로 하는 정보나 도움을 제공해드리는 인공지능입니다. 어떤 도움이 필요하신가요?\n",
      "    사람: 난 강남에 살아\n",
      "    AI: \n",
      "\u001b[0m\n",
      "\n",
      "\u001b[1m> Finished chain.\u001b[0m\n"
     ]
    },
    {
     "data": {
      "text/plain": [
       "'그렇군요, 강남은 정말 번화한 지역이죠. 근처에는 많은 상점과 레스토랑이 있어서 삶이 편리하실 것 같아요. 혹시 강남에서 어떤 정보나 도움이 필요하신가요? 부담 갖지 마시고 물어보세요.'"
      ]
     },
     "execution_count": 10,
     "metadata": {},
     "output_type": "execute_result"
    }
   ],
   "source": [
    "chain.predict(question=\"난 강남에 살아\")"
   ]
  },
  {
   "cell_type": "code",
   "execution_count": 11,
   "metadata": {},
   "outputs": [
    {
     "name": "stdout",
     "output_type": "stream",
     "text": [
      "\n",
      "\n",
      "\u001b[1m> Entering new LLMChain chain...\u001b[0m\n",
      "Prompt after formatting:\n",
      "\u001b[32;1m\u001b[1;3m\n",
      "    너는 사람에게 도움을 주는 AI야, 그리고 한글로 얘기해\n",
      "    \n",
      "    System: The human introduces themselves as Won-guk. The AI greets Won-guk and offers to provide any information or help needed. Won-guk mentions that they live in Gangnam.\n",
      "AI: 그렇군요, 강남은 정말 번화한 지역이죠. 근처에는 많은 상점과 레스토랑이 있어서 삶이 편리하실 것 같아요. 혹시 강남에서 어떤 정보나 도움이 필요하신가요? 부담 갖지 마시고 물어보세요.\n",
      "    사람: 내 이름은?\n",
      "    AI: \n",
      "\u001b[0m\n",
      "\n",
      "\u001b[1m> Finished chain.\u001b[0m\n"
     ]
    },
    {
     "data": {
      "text/plain": [
       "'당신의 이름은 원국이죠. 어떤 도움이 필요하신가요? 부담 갖지 마시고 물어보세요.'"
      ]
     },
     "execution_count": 11,
     "metadata": {},
     "output_type": "execute_result"
    }
   ],
   "source": [
    "chain.predict(question=\"내 이름은?\")"
   ]
  },
  {
   "cell_type": "code",
   "execution_count": 8,
   "metadata": {},
   "outputs": [
    {
     "data": {
      "text/plain": [
       "{'chat_history': 'System: The human introduces themselves as Won-guk and mentions living in Gangnam. The AI responds with a greeting in Korean and offers to provide location or nearby information in Gangnam.\\nHuman: 내 이름은?\\nAI: Won-guk 님, 저는 여러분이 필요로 하는 정보를 제공해드리는 AI입니다. 어떤 도움이 필요하신가요?'}"
      ]
     },
     "execution_count": 8,
     "metadata": {},
     "output_type": "execute_result"
    }
   ],
   "source": [
    "memory.load_memory_variables({})"
   ]
  }
 ],
 "metadata": {
  "kernelspec": {
   "display_name": "env",
   "language": "python",
   "name": "python3"
  },
  "language_info": {
   "codemirror_mode": {
    "name": "ipython",
    "version": 3
   },
   "file_extension": ".py",
   "mimetype": "text/x-python",
   "name": "python",
   "nbconvert_exporter": "python",
   "pygments_lexer": "ipython3",
   "version": "3.11.6"
  }
 },
 "nbformat": 4,
 "nbformat_minor": 2
}
