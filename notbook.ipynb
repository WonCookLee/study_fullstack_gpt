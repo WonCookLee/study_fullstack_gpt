{
 "cells": [
  {
   "cell_type": "code",
   "execution_count": 12,
   "metadata": {},
   "outputs": [
    {
     "name": "stderr",
     "output_type": "stream",
     "text": [
      "c:\\study\\workspace\\study_fullstack_gpt\\env\\Lib\\site-packages\\langchain\\llms\\openai.py:216: UserWarning: You are trying to use a chat model. This way of initializing it is no longer supported. Instead, please use: `from langchain.chat_models import ChatOpenAI`\n",
      "  warnings.warn(\n",
      "c:\\study\\workspace\\study_fullstack_gpt\\env\\Lib\\site-packages\\langchain\\llms\\openai.py:811: UserWarning: You are trying to use a chat model. This way of initializing it is no longer supported. Instead, please use: `from langchain.chat_models import ChatOpenAI`\n",
      "  warnings.warn(\n"
     ]
    },
    {
     "data": {
      "text/plain": [
       "('네, OpenAI API를 자바로 호출하는 코드는 아래와 같이 작성할 수 있습니다.\\n\\n```java\\nimport okhttp3.MediaType;\\nimport okhttp3.OkHttpClient;\\nimport okhttp3.Request;\\nimport okhttp3.RequestBody;\\nimport okhttp3.Response;\\nimport org.json.JSONObject;\\n\\npublic class OpenAiApi {\\n\\n    private static final String API_KEY = \"YOUR_API_KEY\";\\n    private static final OkHttpClient client = new OkHttpClient();\\n\\n    public static void main(String[] args) {\\n        String prompt = \"Once upon a time\";\\n        String completion = getCompletion(prompt);\\n        System.out.println(completion);\\n    }\\n\\n    public static String getCompletion(String prompt) {\\n        String url = \"https://api.openai.com/v1/engines/davinci/completions\";\\n        JSONObject json = new JSONObject()\\n                .put(\"prompt\", prompt)\\n                .put(\"max_tokens\", 100);\\n\\n        RequestBody body = RequestBody.create(json.toString(), MediaType.parse(\"application/json\"));\\n        Request request = new Request.Builder()\\n                .url(url)\\n                .addHeader(\"Authorization\", \"Bearer \" + API_KEY)\\n                .post(body)\\n                .build();\\n\\n        try {\\n            Response response = client.newCall(request).execute();\\n            String responseBody = response.body().string();\\n            JSONObject jsonResponse = new JSONObject(responseBody);\\n            return jsonResponse.getString(\"choices\");\\n        } catch (Exception e) {\\n            e.printStackTrace();\\n            return null;\\n        }\\n    }\\n}\\n```\\n\\n위 코드는 OkHttpClient를 사용하여 OpenAI API를 호출하는 예시입니다. API 키를 제공한 후 올바른 엔진 이름을 사용하여 API를 호출할 수 있습니다. 호출된 결과는 JSON 형식으로 반환되며, 필요에 따라 파싱하여 사용할 수 있습니다.',\n",
       " 'OpenAI API를 자바에서 호출하는 예시 코드를 제공하겠습니다. 여기서는 OpenAI의 GPT-3 모델을 사용하는 예시를 보여드립니다. OpenAI의 API를 사용하기 위해서는 먼저 API 키가 필요합니다. 이 키는 OpenAI 웹사이트에서 API에 접근 권한을 신청하여 받을 수 있습니다.\\n\\nJava에서 HTTP 요청을 보내기 위해 `OkHttp` 라이브러리를 사용하는 예시 코드를 작성하겠습니다. 먼저 `OkHttp`를 프로젝트에 추가해야 합니다. Maven을 사용하는 경우, `pom.xml` 파일에 다음 의존성을 추가하면 됩니다:\\n\\n```xml\\n<dependency>\\n    <groupId>com.squareup.okhttp3</groupId>\\n    <artifactId>okhttp</artifactId>\\n    <version>4.9.0</version>\\n</dependency>\\n```\\n\\n이제 OpenAI API를 호출하는 자바 코드를 작성해 보겠습니다:\\n\\n```java\\nimport okhttp3.MediaType;\\nimport okhttp3.OkHttpClient;\\nimport okhttp3.Request;\\nimport okhttp3.RequestBody;\\nimport okhttp3.Response;\\n\\nimport java.io.IOException;\\n\\npublic class OpenAIClient {\\n    private final String apiKey;\\n\\n    public OpenAIClient(String apiKey) {\\n        this.apiKey = apiKey;\\n    }\\n\\n    public String callGPT3(String prompt) throws IOException {\\n        OkHttpClient client = new OkHttpClient();\\n\\n        MediaType mediaType = MediaType.parse(\"application/json\");\\n        String jsonBody = \"{\\\\\"prompt\\\\\": \\\\\"\" + prompt + \"\\\\\", \\\\\"max_tokens\\\\\": 150}\";\\n        RequestBody body = RequestBody.create(jsonBody, mediaType);\\n\\n        Request request = new Request.Builder()\\n            .url(\"https://api.openai.com/v1/engines/davinci/completions\")\\n            .post(body)\\n            .addHeader(\"Content-Type\", \"application/json\")\\n            .addHeader(\"Authorization\", \"Bearer \" + this.apiKey)\\n            .build();\\n\\n        try (Response response = client.newCall(request).execute()) {\\n            if (!response.isSuccessful()) throw new IOException(\"Unexpected code \" + response);\\n\\n            return response.body().string();\\n        }\\n    }\\n\\n    public static void main(String[] args) {\\n        if (args.length < 1) {\\n            System.out.println(\"Usage: java OpenAIClient <api_key>\");\\n            System.exit(1);\\n        }\\n\\n        String apiKey = args[0];\\n        OpenAIClient client = new OpenAIClient(apiKey);\\n\\n        try {\\n            String response = client.callGPT3(\"Hello, world!\");\\n            System.out.println(\"Response from GPT-3: \" + response);\\n        } catch (IOException e) {\\n            e.printStackTrace();\\n        }\\n    }\\n}\\n```\\n\\n이 코드에서는 `OkHttpClient`를 사용해 HTTP POST 요청을 보냅니다. 이 요청은 JSON 형식의 바디를 포함하고 있으며, GPT-3 엔진에 입력 텍스트(prompt)를 보내고 결과를 받아옵니다.\\n\\nAPI 키와 함께 프로그램을 실행할 때 주의해야 합니다. 보안을 위해 API 키를 코드에 직접 하드코딩하지 않고, 외부에서 인자로 받거나 환경 변수 등을 통해 안전하게 관리하는 것이 좋습니다.')"
      ]
     },
     "execution_count": 12,
     "metadata": {},
     "output_type": "execute_result"
    }
   ],
   "source": [
    "from langchain.llms.openai import OpenAI\n",
    "from langchain.chat_models import ChatOpenAI\n",
    "\n",
    "llm = OpenAI(model_name=\"gpt-3.5-turbo-1106\")\n",
    "chat = ChatOpenAI(model_name=\"gpt-4-turbo\")\n",
    "\n",
    "a = llm.predict(\"open ai api 자바로 호출하는 코드 알아?\")\n",
    "b = chat.predict(\"open ai api 자바로 호출하는 코드 알아?\")\n",
    "\n",
    "a, b\n"
   ]
  }
 ],
 "metadata": {
  "kernelspec": {
   "display_name": "env",
   "language": "python",
   "name": "python3"
  },
  "language_info": {
   "codemirror_mode": {
    "name": "ipython",
    "version": 3
   },
   "file_extension": ".py",
   "mimetype": "text/x-python",
   "name": "python",
   "nbconvert_exporter": "python",
   "pygments_lexer": "ipython3",
   "version": "3.11.6"
  }
 },
 "nbformat": 4,
 "nbformat_minor": 2
}
