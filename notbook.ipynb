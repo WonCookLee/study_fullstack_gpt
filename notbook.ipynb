{
 "cells": [
  {
   "cell_type": "code",
   "execution_count": 32,
   "metadata": {},
   "outputs": [
    {
     "name": "stdout",
     "output_type": "stream",
     "text": [
      "\u001b[32;1m\u001b[1;3m[llm/start]\u001b[0m \u001b[1m[1:llm:ChatOpenAI] Entering LLM run with input:\n",
      "\u001b[0m{\n",
      "  \"prompts\": [\n",
      "    \"Human: 이탈리안 파스타 어떻게 만들어?\"\n",
      "  ]\n",
      "}\n",
      "\u001b[36;1m\u001b[1;3m[llm/end]\u001b[0m \u001b[1m[1:llm:ChatOpenAI] [4ms] Exiting LLM run with output:\n",
      "\u001b[0m{\n",
      "  \"generations\": [\n",
      "    [\n",
      "      {\n",
      "        \"text\": \"이탈리안 파스타를 만드는 방법은 다양하지만, 전통적인 방법을 소개해 드리겠습니다.\\n\\n1. 물에 소금을 넣고 끓는 물에 파스타를 넣어주세요. (파스타 종류에 따라 다르지만 보통 10-12분 정도 삶아주세요)\\n\\n2. 팬에 올리브 오일을 두르고 다진 마늘을 볶아주세요.\\n\\n3. 다진 양파와 소금, 후추를 넣고 볶아주세요.\\n\\n4. 토마토 소스를 넣고 섞어주세요. (생 토마토를 갈아서 사용해도 좋습니다)\\n\\n5. 파스타를 삶은 후 물기를 제거하고 팬에 넣어주세요.\\n\\n6. 파마산 치즈를 넣고 섞어주세요.\\n\\n7. 마지막으로 파슬리나 바질을 곁들여 완성해주세요.\\n\\n이렇게 하면 간단하게 이탈리안 파스타를 만들 수 있습니다. 맛있게 즐기세요!\",\n",
      "        \"generation_info\": {\n",
      "          \"finish_reason\": \"stop\"\n",
      "        },\n",
      "        \"type\": \"ChatGeneration\",\n",
      "        \"message\": {\n",
      "          \"lc\": 1,\n",
      "          \"type\": \"constructor\",\n",
      "          \"id\": [\n",
      "            \"langchain\",\n",
      "            \"schema\",\n",
      "            \"messages\",\n",
      "            \"AIMessage\"\n",
      "          ],\n",
      "          \"kwargs\": {\n",
      "            \"content\": \"이탈리안 파스타를 만드는 방법은 다양하지만, 전통적인 방법을 소개해 드리겠습니다.\\n\\n1. 물에 소금을 넣고 끓는 물에 파스타를 넣어주세요. (파스타 종류에 따라 다르지만 보통 10-12분 정도 삶아주세요)\\n\\n2. 팬에 올리브 오일을 두르고 다진 마늘을 볶아주세요.\\n\\n3. 다진 양파와 소금, 후추를 넣고 볶아주세요.\\n\\n4. 토마토 소스를 넣고 섞어주세요. (생 토마토를 갈아서 사용해도 좋습니다)\\n\\n5. 파스타를 삶은 후 물기를 제거하고 팬에 넣어주세요.\\n\\n6. 파마산 치즈를 넣고 섞어주세요.\\n\\n7. 마지막으로 파슬리나 바질을 곁들여 완성해주세요.\\n\\n이렇게 하면 간단하게 이탈리안 파스타를 만들 수 있습니다. 맛있게 즐기세요!\",\n",
      "            \"additional_kwargs\": {}\n",
      "          }\n",
      "        }\n",
      "      }\n",
      "    ]\n",
      "  ],\n",
      "  \"llm_output\": null,\n",
      "  \"run\": null\n",
      "}\n"
     ]
    },
    {
     "data": {
      "text/plain": [
       "'이탈리안 파스타를 만드는 방법은 다양하지만, 전통적인 방법을 소개해 드리겠습니다.\\n\\n1. 물에 소금을 넣고 끓는 물에 파스타를 넣어주세요. (파스타 종류에 따라 다르지만 보통 10-12분 정도 삶아주세요)\\n\\n2. 팬에 올리브 오일을 두르고 다진 마늘을 볶아주세요.\\n\\n3. 다진 양파와 소금, 후추를 넣고 볶아주세요.\\n\\n4. 토마토 소스를 넣고 섞어주세요. (생 토마토를 갈아서 사용해도 좋습니다)\\n\\n5. 파스타를 삶은 후 물기를 제거하고 팬에 넣어주세요.\\n\\n6. 파마산 치즈를 넣고 섞어주세요.\\n\\n7. 마지막으로 파슬리나 바질을 곁들여 완성해주세요.\\n\\n이렇게 하면 간단하게 이탈리안 파스타를 만들 수 있습니다. 맛있게 즐기세요!'"
      ]
     },
     "execution_count": 32,
     "metadata": {},
     "output_type": "execute_result"
    }
   ],
   "source": [
    "from typing import Any, Dict, List\n",
    "from langchain.chat_models import ChatOpenAI\n",
    "from langchain.prompts import example_selector\n",
    "from langchain.prompts.few_shot import FewShotPromptTemplate\n",
    "from langchain.callbacks import StreamingStdOutCallbackHandler\n",
    "from langchain.prompts.prompt import PromptTemplate\n",
    "from langchain.prompts.example_selector.base import BaseExampleSelector\n",
    "from langchain.prompts.example_selector import LengthBasedExampleSelector\n",
    "from langchain.prompts import load_prompt\n",
    "from langchain.prompts.pipeline import PipelinePromptTemplate\n",
    "from langchain.cache import InMemoryCache, SQLiteCache\n",
    "from langchain.globals import set_llm_cache, set_debug\n",
    "\n",
    "#set_llm_cache(InMemoryCache())\n",
    "set_llm_cache(SQLiteCache(\"cash.db\"))\n",
    "set_debug(True)\n",
    "\n",
    "chat = ChatOpenAI(\n",
    "    temperature=0.1,\n",
    "    # streaming=True,\n",
    "    # callbacks=[\n",
    "    #     StreamingStdOutCallbackHandler(),\n",
    "    # ],\n",
    ")\n",
    "chat.predict(\"이탈리안 파스타 어떻게 만들어?\")\n",
    "\n",
    "\n"
   ]
  },
  {
   "cell_type": "code",
   "execution_count": 29,
   "metadata": {},
   "outputs": [
    {
     "data": {
      "text/plain": [
       "'이탈리안 파스타를 만드는 방법은 다양하지만, 전통적인 스파게티 앤 미트볼 레시피를 소개해 드리겠습니다.\\n\\n재료:\\n- 400g의 스파게티\\n- 500g의 소고기 미트볼\\n- 1개의 양파 (다진 양파)\\n- 2개의 마늘 (다진 마늘)\\n- 800g의 토마토 소스\\n- 소금, 후추, 올리브 오일, 파슬리\\n\\n1. 먼저 큰 냄비에 물을 끓여 소금을 넣고 스파게티를 삶아주세요. 삶는 동안 종이컵에 미트볼을 넣고 전자레인지에 2분간 돌려주세요.\\n\\n2. 팬에 올리브 오일을 두르고 다진 양파와 마늘을 볶아주세요. 양파가 투명해질 때까지 볶아주세요.\\n\\n3. 볶은 양파에 토마토 소스를 넣고 섞어주세요. 소금과 후추로 간을 맞춰주세요.\\n\\n4. 미트볼을 토마토 소스에 넣고 약 10분간 끓여주세요.\\n\\n5. 삶은 스파게티를 물기를 제거하고 팬에 넣어주세요. 소스와 스파게티가 잘 섞이도록 볶아주세요.\\n\\n6. 접시에 담아 파슬리를 솔솔 뿌려주면 완성입니다.\\n\\n이탈리안 파스타를 만들어보세요!Bon appetit!'"
      ]
     },
     "execution_count": 29,
     "metadata": {},
     "output_type": "execute_result"
    }
   ],
   "source": []
  }
 ],
 "metadata": {
  "kernelspec": {
   "display_name": "env",
   "language": "python",
   "name": "python3"
  },
  "language_info": {
   "codemirror_mode": {
    "name": "ipython",
    "version": 3
   },
   "file_extension": ".py",
   "mimetype": "text/x-python",
   "name": "python",
   "nbconvert_exporter": "python",
   "pygments_lexer": "ipython3",
   "version": "3.11.6"
  }
 },
 "nbformat": 4,
 "nbformat_minor": 2
}
